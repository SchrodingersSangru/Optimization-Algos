{
  "nbformat": 4,
  "nbformat_minor": 0,
  "metadata": {
    "colab": {
      "name": "particle swarm optimization",
      "provenance": [],
      "collapsed_sections": [
        "ZNPjxYiqCub5",
        "ELdm-z6Y-hdv",
        "hrXQUJv8CoK-"
      ]
    },
    "kernelspec": {
      "name": "python3",
      "display_name": "Python 3"
    },
    "language_info": {
      "name": "python"
    }
  },
  "cells": [
    {
      "cell_type": "code",
      "source": [
        "import tensorflow as tf\n",
        "import tensorflow_probability as tfp\n",
        "import numpy as np\n",
        "import matplotlib.pyplot as plt\n",
        "import matplotlib.animation as animation\n",
        "\n",
        "\n",
        "np.random.seed(123)\n",
        "tf.random.set_seed(123)"
      ],
      "metadata": {
        "id": "_TCkxSeA31XD"
      },
      "execution_count": 1,
      "outputs": []
    },
    {
      "cell_type": "markdown",
      "source": [
        "# Particle Swarm Optimization"
      ],
      "metadata": {
        "id": "Id4tFXi-C5Jn"
      }
    },
    {
      "cell_type": "code",
      "source": [
        "class pso:\n",
        "    def __init__(\n",
        "        self,\n",
        "        fitness_fn,\n",
        "        pop_size=500,\n",
        "        dim=2,\n",
        "        n_iter=300,\n",
        "        b=0.9,\n",
        "        c1=0.9,\n",
        "        c2=0.5,\n",
        "        x_min=-1,\n",
        "        x_max=1,\n",
        "        ):\n",
        "        self.fitness_fn = fitness_fn\n",
        "        self.pop_size = pop_size\n",
        "        self.dim = dim\n",
        "        self.n_iter = n_iter\n",
        "        self.b = b\n",
        "        self.c1 = c1\n",
        "        self.c2 = c2\n",
        "        self.x_min = x_min\n",
        "        self.x_max = x_max\n",
        "        self.x = self.build_swarm()\n",
        "        self.p = self.x\n",
        "        self.f_p = self.fitness_fn(self.x)\n",
        "        self.fit_history = []\n",
        "        self.g = self.p[tf.math.argmin(input=self.f_p).numpy()[0]]\n",
        "        self.v = self.start_velocities()\n",
        "\n",
        "\n",
        "    def build_swarm(self):\n",
        "        \"\"\"Creates the swarm following the selected initialization method. \n",
        "        Returns:\n",
        "            tf.Tensor: The PSO swarm population. Each particle represents a neural\n",
        "            network. \n",
        "        \"\"\"\n",
        "        return tf.Variable(\n",
        "            tf.random.uniform([self.pop_size, self.dim], self.x_min, self.x_max)\n",
        "        )\n",
        "\n",
        "\n",
        "    def start_velocities(self):\n",
        "        \"\"\"Start the velocities of each particle in the population (swarm). \n",
        "        Returns:\n",
        "            tf.Tensor: The starting velocities.  \n",
        "        \"\"\"\n",
        "        return tf.Variable(\n",
        "            tf.random.uniform(\n",
        "                [self.pop_size, self.dim],\n",
        "                 self.x_min,\n",
        "                self.x_max ,\n",
        "            )\n",
        "        )\n",
        "\n",
        "\n",
        "    def get_randoms(self):\n",
        "        \"\"\"Generate random values to update the particles' positions. \n",
        "        Returns:\n",
        "            _type_: _description_\n",
        "        \"\"\"\n",
        "        return np.random.uniform(0, 1, [2, self.dim])[:, None]\n",
        "\n",
        "    def update_p_best(self):\n",
        "        \"\"\"Updates the *p-best* positions. \n",
        "        \"\"\"\n",
        "        f_x = self.fitness_fn(self.x)\n",
        "        self.fit_history.append(tf.reduce_mean(f_x).numpy())\n",
        "        self.p = tf.where(f_x < self.f_p, self.x, self.p)\n",
        "        self.f_p = tf.where(f_x < self.f_p, f_x, self.f_p)\n",
        "\n",
        "    def update_g_best(self):\n",
        "        \"\"\"Update the *g-best* position. \n",
        "        \"\"\"\n",
        "        return self.p[tf.math.argmin(input=self.f_p).numpy()[0]]\n",
        "\n",
        "    def step(self):\n",
        "        \"\"\"It runs ONE step on the particle swarm optimization. \n",
        "        \"\"\"\n",
        "        r1, r2 = self.get_randoms()\n",
        "        self.v = (\n",
        "            self.b * self.v\n",
        "            + self.c1 * r1 * (self.p - self.x)\n",
        "            + self.c2 * r2 * (self.g - self.x)\n",
        "        )\n",
        "        self.x = tf.clip_by_value(self.x + self.v, self.x_min, self.x_max)\n",
        "        self.update_p_best()\n",
        "        self.update_g_best()\n",
        "\n",
        "    def train(self):\n",
        "        \"\"\"The particle swarm optimization. The PSO will optimize the weights according to the losses of the neural network, so this process is actually the neural network training. \n",
        "        \"\"\"\n",
        "        for i in range(self.n_iter):\n",
        "            self.step()"
      ],
      "metadata": {
        "id": "IHTV3f8Z3wRM"
      },
      "execution_count": 2,
      "outputs": []
    },
    {
      "cell_type": "code",
      "source": [
        "def objective_function(X):\n",
        "    return tf.math.sqrt(X[:,0]**2 + X[:,1]**2)[:,None]\n",
        "\n",
        "def fitness_function():\n",
        "    def f(X):\n",
        "        return objective_function(X)\n",
        "    return f\n",
        "\n",
        "opt = pso(fitness_fn=fitness_function(), n_iter=100)\n",
        "\n",
        "## Define the grid for future plotting:\n",
        "xlist = np.linspace(-1.0, 1.0, 100)\n",
        "ylist = np.linspace(-1.0, 1.0, 100)\n",
        "X, Y = np.meshgrid(xlist, ylist)\n",
        "Z = - np.sqrt(X**2 + Y**2)\n",
        "\n",
        "\n",
        "def snapshot(i):\n",
        "    opt.train()\n",
        "    plt.contourf(X, Y, Z, cmap='rainbow', levels=50)\n",
        "    plt.scatter(opt.x[:,0],opt.x[:,1], color='b')\n",
        "\n",
        "fig = plt.figure(figsize=(8, 8), dpi=100)\n",
        "anim = animation.FuncAnimation(fig,snapshot,frames=60)\n",
        "anim.save(\"PSO_tensorflow.mp4\", fps=6)\n",
        "# anim"
      ],
      "metadata": {
        "colab": {
          "base_uri": "https://localhost:8080/",
          "height": 670
        },
        "id": "bQKXXiTAFjUO",
        "outputId": "021510db-10fb-4ca0-ce35-657e5678b68c"
      },
      "execution_count": 3,
      "outputs": [
        {
          "output_type": "display_data",
          "data": {
            "text/plain": [
              "<Figure size 800x800 with 1 Axes>"
            ],
            "image/png": "[encoded data removed]"
          },
          "metadata": {
            "needs_background": "light"
          }
        }
      ]
    },
    {
      "cell_type": "code",
      "source": [
        "from random import randrange"
      ],
      "metadata": {
        "id": "_E-Hubi3IhCP"
      },
      "execution_count": 10,
      "outputs": []
    },
    {
      "cell_type": "code",
      "source": [
        "heads = tails = 0\n",
        "for b in range(1000):\n",
        "        if randrange(100) < 69: \n",
        "            heads = heads + 1 \n",
        "        else: \n",
        "            tails = tails + 1"
      ],
      "metadata": {
        "id": "v0_kBmUWzpa0"
      },
      "execution_count": 15,
      "outputs": []
    },
    {
      "cell_type": "code",
      "source": [
        "print(tails)"
      ],
      "metadata": {
        "colab": {
          "base_uri": "https://localhost:8080/"
        },
        "id": "BcwALfRIITW8",
        "outputId": "67600087-68b7-452f-a575-f826d9ba5a4b"
      },
      "execution_count": 16,
      "outputs": [
        {
          "output_type": "stream",
          "name": "stdout",
          "text": [
            "290\n"
          ]
        }
      ]
    },
    {
      "cell_type": "code",
      "source": [
        "from typing import List\n",
        " \n",
        "# Function to multiply two matrices A and B\n",
        "def multiply(A: List[List[float]], B: List[List[float]],\n",
        "             N: int) -> List[List[float]]:\n",
        "    C = [[0 for _ in range(N)] for _ in range(N)]\n",
        "    for i in range(N):\n",
        "        for j in range(N):\n",
        "            for k in range(N):\n",
        "                C[i][j] += A[i][k] * B[k][j]\n",
        "    return C\n",
        " \n",
        "# Function to calculate the power of a matrix\n",
        "def matrix_power(M: List[List[float]], p: int, n: int) -> List[List[float]]:\n",
        "    A = [[0 for _ in range(n)] for _ in range(n)]\n",
        "    for i in range(n):\n",
        "        A[i][i] = 1\n",
        "    while (p):\n",
        "        if (p % 2):\n",
        "            A = multiply(A, M, n)\n",
        "        M = multiply(M, M, n)\n",
        "        p //= 2\n",
        "    return A\n",
        " \n",
        "# Function to calculate the probability of\n",
        "# reaching F at time T after starting from S\n",
        "def findProbability(M: List[List[float]], N: int, F: int, S: int,\n",
        "                    T: int) -> float:\n",
        " \n",
        "    # Storing M^T in MT\n",
        "    MT = matrix_power(M, T, N)\n",
        " \n",
        "    # Returning the answer\n",
        "    return MT[F - 1][S - 1]\n",
        " \n",
        " \n",
        "# Driver code\n",
        "if __name__ == \"__main__\":\n",
        " \n",
        "    # Adjacency matrix\n",
        "    # The edges have been stored in the row\n",
        "    # corresponding to their end-point\n",
        "    G = [[0.1, 0.9, 0, 0], [0.2, 0, 0.8, 0],\n",
        "         [0.3, 0, 0, 0.7], [0.4, 0, 0, 0.6]]\n",
        " \n",
        "    # N is the number of states\n",
        "    N = 4\n",
        "    S = 1\n",
        "    F = 2\n",
        "    T = 100\n",
        " \n",
        "    print(\n",
        "        \"The probability of reaching {} at time {}\\nafter starting from {} is {}\\n\"\n",
        "        .format(F, T, S, findProbability(G, N, F, S, T)))"
      ],
      "metadata": {
        "colab": {
          "base_uri": "https://localhost:8080/"
        },
        "id": "2ziDcIlhIpLv",
        "outputId": "eff2f1d4-db7d-48f7-81b8-07b9d14cf393"
      },
      "execution_count": 18,
      "outputs": [
        {
          "output_type": "stream",
          "name": "stdout",
          "text": [
            "The probability of reaching 2 at time 100\n",
            "after starting from 1 is 0.257731958762887\n",
            "\n"
          ]
        }
      ]
    },
    {
      "cell_type": "code",
      "source": [
        ""
      ],
      "metadata": {
        "id": "x7UTsof6LFX5"
      },
      "execution_count": null,
      "outputs": []
    }
  ]
}